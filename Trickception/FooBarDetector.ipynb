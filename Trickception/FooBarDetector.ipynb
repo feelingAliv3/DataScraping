{
 "cells": [
  {
   "cell_type": "markdown",
   "metadata": {},
   "source": [
    "# Using Autoencoder as Anomaly Detection for FooBarChallenge"
   ]
  },
  {
   "cell_type": "code",
   "execution_count": 1,
   "metadata": {},
   "outputs": [],
   "source": [
    "from tensorflow.keras.layers import BatchNormalization\n",
    "from tensorflow.keras.layers import Conv2D\n",
    "from tensorflow.keras.layers import Conv2DTranspose\n",
    "from tensorflow.keras.layers import LeakyReLU\n",
    "from tensorflow.keras.layers import Activation\n",
    "from tensorflow.keras.layers import Flatten\n",
    "from tensorflow.keras.layers import Dense\n",
    "from tensorflow.keras.layers import Reshape\n",
    "from tensorflow.keras.layers import Input\n",
    "from tensorflow.keras.models import Model\n",
    "from tensorflow.keras import backend as K\n",
    "import numpy as np\n",
    "import os\n",
    "\n",
    "class ConvAutoencoder:\n",
    "    # in this class, we are building a tensorflow model from scratch, thus,\n",
    "    # (1) import all required layers\n",
    "    # (2) add layers after the other (similar to cast method i.e. layer1(layer2))\n",
    "    # (3) compile all layers and input into Sequential Model\n",
    "    \n",
    "    @staticmethod\n",
    "    # similar to C# the staticmethod attribute allows the function to be called directly\n",
    "    # i.e. ConvAutoencoder.build(foo)\n",
    "    # rather than object = ConvAutoencoder, object.build(foo)\n",
    "    \n",
    "    def build(width, height, depth, filters=(32, 64), latentDim=32):\n",
    "        # width, height, depth are inputs of image\n",
    "        # filters are numbers of filters in the encoding and decoding portion. These are typically randomly distributed around mean 0\n",
    "        # latentDimension is the encoded dimensionality\n",
    "        \n",
    "        inputShape = (height, width, depth)\n",
    "        # channel dimensions is closely related to the input shape, as Keras could use different backend\n",
    "        # the input could be (x,y,z,channels) or (channels,x,y,z)\n",
    "        # in our case, we have explicitly call for channels to be last. why is this important? because\n",
    "        # when we do batch normalization, we would have to call for which axis to be normalized\n",
    "        chanDim = -1\n",
    "        \n",
    "        # define the input to the encoder\n",
    "        inputs = Input(shape=inputShape)\n",
    "        x = inputs\n",
    "        # loop over the number of filters\n",
    "        for f in filters:\n",
    "            # apply a CONV => RELU => BN operation\n",
    "            # this is a 2 hidden layer neural network\n",
    "            # 1st layer consists of 32 Conv2D kernels, followed by an Leaky ReLU activation function, then the batch is normalized\n",
    "            # 2nd layer consists of 64 Conv2D kernels, followed by an Leaky ReLU activation function, then the batch is normalized\n",
    "            x = Conv2D(f, (3, 3), strides=2, padding=\"same\")(x)\n",
    "            x = LeakyReLU(alpha=0.2)(x)\n",
    "            x = BatchNormalization(axis=chanDim)(x)\n",
    "            \n",
    "        # returns shape of final layer x (could be tuple, could be int). why is this important? because\n",
    "        # we need to reconstruct the shape for decoder portion\n",
    "        # flatten the network. When we flatten our network we have an effective (channel)(x)(y)(z) vector\n",
    "        # then, we would use a dense matrix to force it to 16-elements vector\n",
    "        volumeSize = K.int_shape(x)\n",
    "        print(volumeSize)\n",
    "        x = Flatten()(x)\n",
    "        \n",
    "        # final layer for the encoder portion \n",
    "        latent = Dense(latentDim)(x)\n",
    "        # build the encoder model\n",
    "        encoder = Model(inputs, latent, name=\"encoder\")\n",
    "        \n",
    "        # start building the decoder model which will accept the output of the encoder as its inputs\n",
    "        latentInputs = Input(shape=(latentDim,))\n",
    "        x = Dense(np.prod(volumeSize[1:]))(latentInputs)\n",
    "        x = Reshape((volumeSize[1], volumeSize[2], volumeSize[3]))(x)\n",
    "        # loop over our number of filters again, but this time in reverse order\n",
    "        for f in filters[::-1]:\n",
    "            # apply a CONV_TRANSPOSE => RELU => BN operation\n",
    "            # we reverse the number of filters to rebuild the original image size\n",
    "            x = Conv2DTranspose(f, (3, 3), strides=2,padding=\"same\")(x)\n",
    "            x = LeakyReLU(alpha=0.2)(x)\n",
    "            x = BatchNormalization(axis=chanDim)(x)\n",
    "        # apply a single CONV_TRANSPOSE layer used to recover the original depth of the image\n",
    "        x = Conv2DTranspose(depth, (3, 3), padding=\"same\")(x)\n",
    "        outputs = Activation(\"sigmoid\")(x)\n",
    "        \n",
    "        # build the decoder model\n",
    "        decoder = Model(latentInputs, outputs, name=\"decoder\")\n",
    "        # our autoencoder is the encoder + decoder\n",
    "        autoencoder = Model(inputs, decoder(encoder(inputs)), name=\"autoencoder\")\n",
    "        \n",
    "        return (encoder, decoder, autoencoder)"
   ]
  },
  {
   "cell_type": "code",
   "execution_count": 4,
   "metadata": {},
   "outputs": [],
   "source": [
    "# script to build a dataset\n",
    "\n",
    "import matplotlib\n",
    "matplotlib.use(\"Agg\")\n",
    "# import the necessary packages\n",
    "from tensorflow.keras.optimizers import Adam\n",
    "from tensorflow.keras.datasets import mnist\n",
    "from sklearn.model_selection import train_test_split\n",
    "import matplotlib.pyplot as plt\n",
    "import numpy as np\n",
    "#import ConvAutoencoder\n",
    "import argparse\n",
    "import random\n",
    "import pickle\n",
    "import cv2\n",
    "\n",
    "%matplotlib inline\n",
    "\n",
    "def build_unsupervised_dataset(data, labels, validLabel=1, anomalyLabel=3, contam=0.01, seed=42):\n",
    "    # data and labels are numpy array, validLabel and anomalyLabel is an integer for MNIST data\n",
    "    # contam is the percentage which our dataset has anomalies\n",
    "    # there is an assumption to which the data and labels are of the same size\n",
    "    # since autoencoder are highly data-specific, any anomaly index can be used\n",
    "    validIdxs = np.where(labels == validLabel)[0]\n",
    "    anomalyIdxs = np.where(labels == anomalyLabel)[0]\n",
    "    \n",
    "    # randomly shuffle both sets of indexes\n",
    "    random.shuffle(validIdxs)\n",
    "    random.shuffle(anomalyIdxs)\n",
    "    \n",
    "    # compute the total number of anomaly data points to select\n",
    "    i = int(len(validIdxs) * contam)\n",
    "    anomalyIdxs = anomalyIdxs[:i]\n",
    "    \n",
    "    # use NumPy array indexing to extract both the valid images and \"anomaly\" images\n",
    "    validImages = data[validIdxs]\n",
    "    anomalyImages = data[anomalyIdxs]\n",
    "    \n",
    "    # stack the valid images and anomaly images together to form a\n",
    "    # single data matrix and then shuffle the rows\n",
    "    images = np.vstack([validImages, anomalyImages])\n",
    "    np.random.seed(seed)\n",
    "    np.random.shuffle(images)\n",
    "    # return the set of images\n",
    "    return images\n",
    "\n",
    "def visualize_predictions(decoded, gt, samples=10):\n",
    "    # visualizing function for comparing original and decoded images\n",
    "    # decoded is the image/prediction obtained from the autoencoder\n",
    "    # gt is the test images\n",
    "    \n",
    "    # this is a cool trick here. Instantiate a \"null\" object then stack horizontally for the comparison\n",
    "    # and stack vertically for comparison between samples\n",
    "    outputs = None\n",
    "    \n",
    "    for i in range(0, samples):\n",
    "        \n",
    "        original = (gt[i] * 255).astype(\"uint8\")\n",
    "        recon = (decoded[i] * 255).astype(\"uint8\")\n",
    "        \n",
    "        output = np.hstack([original, recon])\n",
    "        \n",
    "        if outputs is None:\n",
    "            outputs = output\n",
    "        else:\n",
    "            outputs = np.vstack([outputs, output])\n",
    "    \n",
    "    return outputs\n",
    "\n",
    "# construct the argument parse and parse the arguments\n",
    "#ap = argparse.ArgumentParser()\n",
    "#ap.add_argument(\"-d\", \"--dataset\", type=str, required=True, help=\"path to output dataset file\")\n",
    "#ap.add_argument(\"-m\", \"--model\", type=str, required=True, help=\"path to output trained autoencoder\")\n",
    "#ap.add_argument(\"-v\", \"--vis\", type=str, default=\"recon_vis.png\", help=\"path to output reconstruction visualization file\")\n",
    "#ap.add_argument(\"-p\", \"--plot\", type=str, default=\"plot.png\", help=\"path to output plot file\")\n",
    "#args = vars(ap.parse_args())"
   ]
  },
  {
   "cell_type": "code",
   "execution_count": 5,
   "metadata": {},
   "outputs": [
    {
     "data": {
      "image/png": "[encoded data removed]",
      "text/plain": [
       "<Figure size 432x288 with 1 Axes>"
      ]
     },
     "metadata": {
      "needs_background": "light"
     },
     "output_type": "display_data"
    }
   ],
   "source": [
    "import cv2\n",
    "import tensorflow as tf\n",
    "\n",
    "y1 = 50\n",
    "y2 = 500\n",
    "x1 = 150\n",
    "x2 = 1400\n",
    "image = cv2.imread(r\"C:\\Users\\Innovations\\Desktop\\AI\\Trickception\\Data\\NotFoo\\1125.png\")\n",
    "cropped = image[y1:y2,x1:x2]\n",
    "plt.imshow(image)\n",
    "# plt.imshow(cropped)\n",
    "# print(image.shape)\n",
    "# print(cropped.shape)\n",
    "# resized = cv2.resize(cropped, (56,56))\n",
    "# plt.imshow(resized)\n",
    "\n",
    "cropped = tf.image.crop_to_bounding_box(image, y1,x1,y2,x2)\n",
    "plt.imshow(cropped)\n",
    "\n",
    "def decode_image(encoded, decoded, image_size=(56, 56)):\n",
    "    bits = tf.io.read_file(encoded)\n",
    "    image = tf.image.decode_png(bits, channels=3)\n",
    "    image = tf.image.rgb_to_grayscale(image)\n",
    "    image = tf.cast(image, tf.float32) / 255.0\n",
    "    image = tf.image.crop_to_bounding_box(image, 50,150,500,1400)\n",
    "    image = tf.image.resize(image, image_size)\n",
    "    \n",
    "    return image, image"
   ]
  },
  {
   "cell_type": "code",
   "execution_count": 6,
   "metadata": {},
   "outputs": [],
   "source": [
    "PATH = r\"C:\\Users\\Innovations\\Desktop\\AI\\Trickception\\Data\\NotFoo\"\n",
    "fileList = [os.path.join(PATH, i) for i in os.listdir(PATH)]\n",
    "trainPaths = fileList[:int(0.75*len(fileList))]\n",
    "validPaths = fileList[int(0.75*len(fileList)):]"
   ]
  },
  {
   "cell_type": "code",
   "execution_count": 7,
   "metadata": {},
   "outputs": [],
   "source": [
    "import tensorflow as tf\n",
    "BATCH_SIZE = 128\n",
    "\n",
    "train_dataset = (\n",
    "    tf.data.Dataset\n",
    "    .from_tensor_slices((trainPaths, trainPaths))\n",
    "    .map(decode_image, num_parallel_calls=tf.data.experimental.AUTOTUNE)\n",
    "    .shuffle(1024)\n",
    "    .batch(BATCH_SIZE)\n",
    "    .prefetch(tf.data.experimental.AUTOTUNE)\n",
    ")\n",
    "\n",
    "valid_dataset = (\n",
    "    tf.data.Dataset\n",
    "    .from_tensor_slices((validPaths, validPaths))\n",
    "    .map(decode_image, num_parallel_calls=tf.data.experimental.AUTOTUNE)\n",
    "    .batch(BATCH_SIZE)\n",
    "    .cache()\n",
    "    .prefetch(tf.data.experimental.AUTOTUNE)\n",
    ")"
   ]
  },
  {
   "cell_type": "code",
   "execution_count": 9,
   "metadata": {},
   "outputs": [
    {
     "name": "stdout",
     "output_type": "stream",
     "text": [
      "[INFO] building autoencoder...\n",
      "(None, 14, 14, 64)\n",
      "Train for 8 steps, validate for 3 steps\n",
      "Epoch 1/30\n",
      "8/8 [==============================] - 21s 3s/step - loss: 0.2274 - val_loss: 0.2200\n",
      "Epoch 2/30\n",
      "8/8 [==============================] - 14s 2s/step - loss: 0.1481 - val_loss: 0.2096\n",
      "Epoch 3/30\n",
      "8/8 [==============================] - 14s 2s/step - loss: 0.0921 - val_loss: 0.1421\n",
      "Epoch 4/30\n",
      "8/8 [==============================] - 15s 2s/step - loss: 0.0594 - val_loss: 0.0895\n",
      "Epoch 5/30\n",
      "8/8 [==============================] - 14s 2s/step - loss: 0.0445 - val_loss: 0.0626\n",
      "Epoch 6/30\n",
      "8/8 [==============================] - 15s 2s/step - loss: 0.0381 - val_loss: 0.0482\n",
      "Epoch 7/30\n",
      "8/8 [==============================] - 14s 2s/step - loss: 0.0343 - val_loss: 0.0410\n",
      "Epoch 8/30\n",
      "8/8 [==============================] - 14s 2s/step - loss: 0.0309 - val_loss: 0.0379\n",
      "Epoch 9/30\n",
      "8/8 [==============================] - 14s 2s/step - loss: 0.0298 - val_loss: 0.0370\n",
      "Epoch 10/30\n",
      "8/8 [==============================] - 14s 2s/step - loss: 0.0273 - val_loss: 0.0356\n",
      "Epoch 11/30\n",
      "8/8 [==============================] - 14s 2s/step - loss: 0.0252 - val_loss: 0.0332\n",
      "Epoch 12/30\n",
      "8/8 [==============================] - 14s 2s/step - loss: 0.0228 - val_loss: 0.0315\n",
      "Epoch 13/30\n",
      "8/8 [==============================] - 14s 2s/step - loss: 0.0216 - val_loss: 0.0304\n",
      "Epoch 14/30\n",
      "8/8 [==============================] - 14s 2s/step - loss: 0.0207 - val_loss: 0.0295\n",
      "Epoch 15/30\n",
      "8/8 [==============================] - 14s 2s/step - loss: 0.0202 - val_loss: 0.0285\n",
      "Epoch 16/30\n",
      "8/8 [==============================] - 14s 2s/step - loss: 0.0198 - val_loss: 0.0282\n",
      "Epoch 17/30\n",
      "8/8 [==============================] - 14s 2s/step - loss: 0.0193 - val_loss: 0.0277\n",
      "Epoch 18/30\n",
      "8/8 [==============================] - 14s 2s/step - loss: 0.0187 - val_loss: 0.0275\n",
      "Epoch 19/30\n",
      "8/8 [==============================] - 14s 2s/step - loss: 0.0181 - val_loss: 0.0271\n",
      "Epoch 20/30\n",
      "8/8 [==============================] - 14s 2s/step - loss: 0.0180 - val_loss: 0.0270\n",
      "Epoch 21/30\n",
      "8/8 [==============================] - 14s 2s/step - loss: 0.0174 - val_loss: 0.0267\n",
      "Epoch 22/30\n",
      "8/8 [==============================] - 14s 2s/step - loss: 0.0173 - val_loss: 0.0264\n",
      "Epoch 23/30\n",
      "8/8 [==============================] - 14s 2s/step - loss: 0.0170 - val_loss: 0.0261\n",
      "Epoch 24/30\n",
      "8/8 [==============================] - 14s 2s/step - loss: 0.0160 - val_loss: 0.0263\n"
     ]
    },
    {
     "ename": "ValueError",
     "evalue": "x and y must have same first dimension, but have shapes (30,) and (24,)",
     "output_type": "error",
     "traceback": [
      "\u001b[1;31m---------------------------------------------------------------------------\u001b[0m",
      "\u001b[1;31mValueError\u001b[0m                                Traceback (most recent call last)",
      "\u001b[1;32m<ipython-input-9-08a29a14dfd2>\u001b[0m in \u001b[0;36m<module>\u001b[1;34m\u001b[0m\n\u001b[0;32m     13\u001b[0m \u001b[0mplt\u001b[0m\u001b[1;33m.\u001b[0m\u001b[0mstyle\u001b[0m\u001b[1;33m.\u001b[0m\u001b[0muse\u001b[0m\u001b[1;33m(\u001b[0m\u001b[1;34m\"ggplot\"\u001b[0m\u001b[1;33m)\u001b[0m\u001b[1;33m\u001b[0m\u001b[1;33m\u001b[0m\u001b[0m\n\u001b[0;32m     14\u001b[0m \u001b[0mplt\u001b[0m\u001b[1;33m.\u001b[0m\u001b[0mfigure\u001b[0m\u001b[1;33m(\u001b[0m\u001b[1;33m)\u001b[0m\u001b[1;33m\u001b[0m\u001b[1;33m\u001b[0m\u001b[0m\n\u001b[1;32m---> 15\u001b[1;33m \u001b[0mplt\u001b[0m\u001b[1;33m.\u001b[0m\u001b[0mplot\u001b[0m\u001b[1;33m(\u001b[0m\u001b[0mN\u001b[0m\u001b[1;33m,\u001b[0m \u001b[0mH\u001b[0m\u001b[1;33m.\u001b[0m\u001b[0mhistory\u001b[0m\u001b[1;33m[\u001b[0m\u001b[1;34m\"loss\"\u001b[0m\u001b[1;33m]\u001b[0m\u001b[1;33m,\u001b[0m \u001b[0mlabel\u001b[0m\u001b[1;33m=\u001b[0m\u001b[1;34m\"train_loss\"\u001b[0m\u001b[1;33m)\u001b[0m\u001b[1;33m\u001b[0m\u001b[1;33m\u001b[0m\u001b[0m\n\u001b[0m\u001b[0;32m     16\u001b[0m \u001b[0mplt\u001b[0m\u001b[1;33m.\u001b[0m\u001b[0mplot\u001b[0m\u001b[1;33m(\u001b[0m\u001b[0mN\u001b[0m\u001b[1;33m,\u001b[0m \u001b[0mH\u001b[0m\u001b[1;33m.\u001b[0m\u001b[0mhistory\u001b[0m\u001b[1;33m[\u001b[0m\u001b[1;34m\"val_loss\"\u001b[0m\u001b[1;33m]\u001b[0m\u001b[1;33m,\u001b[0m \u001b[0mlabel\u001b[0m\u001b[1;33m=\u001b[0m\u001b[1;34m\"val_loss\"\u001b[0m\u001b[1;33m)\u001b[0m\u001b[1;33m\u001b[0m\u001b[1;33m\u001b[0m\u001b[0m\n\u001b[0;32m     17\u001b[0m \u001b[0mplt\u001b[0m\u001b[1;33m.\u001b[0m\u001b[0mtitle\u001b[0m\u001b[1;33m(\u001b[0m\u001b[1;34m\"Training Loss\"\u001b[0m\u001b[1;33m)\u001b[0m\u001b[1;33m\u001b[0m\u001b[1;33m\u001b[0m\u001b[0m\n",
      "\u001b[1;32m~\\.conda\\envs\\tf-gpu\\lib\\site-packages\\matplotlib\\pyplot.py\u001b[0m in \u001b[0;36mplot\u001b[1;34m(scalex, scaley, data, *args, **kwargs)\u001b[0m\n\u001b[0;32m   2794\u001b[0m     return gca().plot(\n\u001b[0;32m   2795\u001b[0m         *args, scalex=scalex, scaley=scaley, **({\"data\": data} if data\n\u001b[1;32m-> 2796\u001b[1;33m         is not None else {}), **kwargs)\n\u001b[0m\u001b[0;32m   2797\u001b[0m \u001b[1;33m\u001b[0m\u001b[0m\n\u001b[0;32m   2798\u001b[0m \u001b[1;33m\u001b[0m\u001b[0m\n",
      "\u001b[1;32m~\\.conda\\envs\\tf-gpu\\lib\\site-packages\\matplotlib\\axes\\_axes.py\u001b[0m in \u001b[0;36mplot\u001b[1;34m(self, scalex, scaley, data, *args, **kwargs)\u001b[0m\n\u001b[0;32m   1663\u001b[0m         \"\"\"\n\u001b[0;32m   1664\u001b[0m         \u001b[0mkwargs\u001b[0m \u001b[1;33m=\u001b[0m \u001b[0mcbook\u001b[0m\u001b[1;33m.\u001b[0m\u001b[0mnormalize_kwargs\u001b[0m\u001b[1;33m(\u001b[0m\u001b[0mkwargs\u001b[0m\u001b[1;33m,\u001b[0m \u001b[0mmlines\u001b[0m\u001b[1;33m.\u001b[0m\u001b[0mLine2D\u001b[0m\u001b[1;33m.\u001b[0m\u001b[0m_alias_map\u001b[0m\u001b[1;33m)\u001b[0m\u001b[1;33m\u001b[0m\u001b[1;33m\u001b[0m\u001b[0m\n\u001b[1;32m-> 1665\u001b[1;33m         \u001b[0mlines\u001b[0m \u001b[1;33m=\u001b[0m \u001b[1;33m[\u001b[0m\u001b[1;33m*\u001b[0m\u001b[0mself\u001b[0m\u001b[1;33m.\u001b[0m\u001b[0m_get_lines\u001b[0m\u001b[1;33m(\u001b[0m\u001b[1;33m*\u001b[0m\u001b[0margs\u001b[0m\u001b[1;33m,\u001b[0m \u001b[0mdata\u001b[0m\u001b[1;33m=\u001b[0m\u001b[0mdata\u001b[0m\u001b[1;33m,\u001b[0m \u001b[1;33m**\u001b[0m\u001b[0mkwargs\u001b[0m\u001b[1;33m)\u001b[0m\u001b[1;33m]\u001b[0m\u001b[1;33m\u001b[0m\u001b[1;33m\u001b[0m\u001b[0m\n\u001b[0m\u001b[0;32m   1666\u001b[0m         \u001b[1;32mfor\u001b[0m \u001b[0mline\u001b[0m \u001b[1;32min\u001b[0m \u001b[0mlines\u001b[0m\u001b[1;33m:\u001b[0m\u001b[1;33m\u001b[0m\u001b[1;33m\u001b[0m\u001b[0m\n\u001b[0;32m   1667\u001b[0m             \u001b[0mself\u001b[0m\u001b[1;33m.\u001b[0m\u001b[0madd_line\u001b[0m\u001b[1;33m(\u001b[0m\u001b[0mline\u001b[0m\u001b[1;33m)\u001b[0m\u001b[1;33m\u001b[0m\u001b[1;33m\u001b[0m\u001b[0m\n",
      "\u001b[1;32m~\\.conda\\envs\\tf-gpu\\lib\\site-packages\\matplotlib\\axes\\_base.py\u001b[0m in \u001b[0;36m__call__\u001b[1;34m(self, *args, **kwargs)\u001b[0m\n\u001b[0;32m    223\u001b[0m                 \u001b[0mthis\u001b[0m \u001b[1;33m+=\u001b[0m \u001b[0margs\u001b[0m\u001b[1;33m[\u001b[0m\u001b[1;36m0\u001b[0m\u001b[1;33m]\u001b[0m\u001b[1;33m,\u001b[0m\u001b[1;33m\u001b[0m\u001b[1;33m\u001b[0m\u001b[0m\n\u001b[0;32m    224\u001b[0m                 \u001b[0margs\u001b[0m \u001b[1;33m=\u001b[0m \u001b[0margs\u001b[0m\u001b[1;33m[\u001b[0m\u001b[1;36m1\u001b[0m\u001b[1;33m:\u001b[0m\u001b[1;33m]\u001b[0m\u001b[1;33m\u001b[0m\u001b[1;33m\u001b[0m\u001b[0m\n\u001b[1;32m--> 225\u001b[1;33m             \u001b[1;32myield\u001b[0m \u001b[1;32mfrom\u001b[0m \u001b[0mself\u001b[0m\u001b[1;33m.\u001b[0m\u001b[0m_plot_args\u001b[0m\u001b[1;33m(\u001b[0m\u001b[0mthis\u001b[0m\u001b[1;33m,\u001b[0m \u001b[0mkwargs\u001b[0m\u001b[1;33m)\u001b[0m\u001b[1;33m\u001b[0m\u001b[1;33m\u001b[0m\u001b[0m\n\u001b[0m\u001b[0;32m    226\u001b[0m \u001b[1;33m\u001b[0m\u001b[0m\n\u001b[0;32m    227\u001b[0m     \u001b[1;32mdef\u001b[0m \u001b[0mget_next_color\u001b[0m\u001b[1;33m(\u001b[0m\u001b[0mself\u001b[0m\u001b[1;33m)\u001b[0m\u001b[1;33m:\u001b[0m\u001b[1;33m\u001b[0m\u001b[1;33m\u001b[0m\u001b[0m\n",
      "\u001b[1;32m~\\.conda\\envs\\tf-gpu\\lib\\site-packages\\matplotlib\\axes\\_base.py\u001b[0m in \u001b[0;36m_plot_args\u001b[1;34m(self, tup, kwargs)\u001b[0m\n\u001b[0;32m    389\u001b[0m             \u001b[0mx\u001b[0m\u001b[1;33m,\u001b[0m \u001b[0my\u001b[0m \u001b[1;33m=\u001b[0m \u001b[0mindex_of\u001b[0m\u001b[1;33m(\u001b[0m\u001b[0mtup\u001b[0m\u001b[1;33m[\u001b[0m\u001b[1;33m-\u001b[0m\u001b[1;36m1\u001b[0m\u001b[1;33m]\u001b[0m\u001b[1;33m)\u001b[0m\u001b[1;33m\u001b[0m\u001b[1;33m\u001b[0m\u001b[0m\n\u001b[0;32m    390\u001b[0m \u001b[1;33m\u001b[0m\u001b[0m\n\u001b[1;32m--> 391\u001b[1;33m         \u001b[0mx\u001b[0m\u001b[1;33m,\u001b[0m \u001b[0my\u001b[0m \u001b[1;33m=\u001b[0m \u001b[0mself\u001b[0m\u001b[1;33m.\u001b[0m\u001b[0m_xy_from_xy\u001b[0m\u001b[1;33m(\u001b[0m\u001b[0mx\u001b[0m\u001b[1;33m,\u001b[0m \u001b[0my\u001b[0m\u001b[1;33m)\u001b[0m\u001b[1;33m\u001b[0m\u001b[1;33m\u001b[0m\u001b[0m\n\u001b[0m\u001b[0;32m    392\u001b[0m \u001b[1;33m\u001b[0m\u001b[0m\n\u001b[0;32m    393\u001b[0m         \u001b[1;32mif\u001b[0m \u001b[0mself\u001b[0m\u001b[1;33m.\u001b[0m\u001b[0mcommand\u001b[0m \u001b[1;33m==\u001b[0m \u001b[1;34m'plot'\u001b[0m\u001b[1;33m:\u001b[0m\u001b[1;33m\u001b[0m\u001b[1;33m\u001b[0m\u001b[0m\n",
      "\u001b[1;32m~\\.conda\\envs\\tf-gpu\\lib\\site-packages\\matplotlib\\axes\\_base.py\u001b[0m in \u001b[0;36m_xy_from_xy\u001b[1;34m(self, x, y)\u001b[0m\n\u001b[0;32m    268\u001b[0m         \u001b[1;32mif\u001b[0m \u001b[0mx\u001b[0m\u001b[1;33m.\u001b[0m\u001b[0mshape\u001b[0m\u001b[1;33m[\u001b[0m\u001b[1;36m0\u001b[0m\u001b[1;33m]\u001b[0m \u001b[1;33m!=\u001b[0m \u001b[0my\u001b[0m\u001b[1;33m.\u001b[0m\u001b[0mshape\u001b[0m\u001b[1;33m[\u001b[0m\u001b[1;36m0\u001b[0m\u001b[1;33m]\u001b[0m\u001b[1;33m:\u001b[0m\u001b[1;33m\u001b[0m\u001b[1;33m\u001b[0m\u001b[0m\n\u001b[0;32m    269\u001b[0m             raise ValueError(\"x and y must have same first dimension, but \"\n\u001b[1;32m--> 270\u001b[1;33m                              \"have shapes {} and {}\".format(x.shape, y.shape))\n\u001b[0m\u001b[0;32m    271\u001b[0m         \u001b[1;32mif\u001b[0m \u001b[0mx\u001b[0m\u001b[1;33m.\u001b[0m\u001b[0mndim\u001b[0m \u001b[1;33m>\u001b[0m \u001b[1;36m2\u001b[0m \u001b[1;32mor\u001b[0m \u001b[0my\u001b[0m\u001b[1;33m.\u001b[0m\u001b[0mndim\u001b[0m \u001b[1;33m>\u001b[0m \u001b[1;36m2\u001b[0m\u001b[1;33m:\u001b[0m\u001b[1;33m\u001b[0m\u001b[1;33m\u001b[0m\u001b[0m\n\u001b[0;32m    272\u001b[0m             raise ValueError(\"x and y can be no greater than 2-D, but have \"\n",
      "\u001b[1;31mValueError\u001b[0m: x and y must have same first dimension, but have shapes (30,) and (24,)"
     ]
    },
    {
     "data": {
      "image/png": "[encoded data removed]",
      "text/plain": [
       "<Figure size 432x288 with 1 Axes>"
      ]
     },
     "metadata": {},
     "output_type": "display_data"
    }
   ],
   "source": [
    "# initialize the number of epochs to train for, initial learning rate, and batch size\n",
    "EPOCHS = 30\n",
    "INIT_LR = 1e-3\n",
    "\n",
    "print(\"[INFO] building autoencoder...\")\n",
    "# if we want to change to different image, change the following image size\n",
    "(encoder, decoder, autoencoder) = ConvAutoencoder.build(56, 56, 1)\n",
    "opt = Adam(lr=INIT_LR, decay=INIT_LR / EPOCHS)\n",
    "autoencoder.compile(loss=\"mse\", optimizer=opt)\n",
    "H = autoencoder.fit(train_dataset, validation_data=(valid_dataset), epochs=EPOCHS, callbacks=[tf.keras.callbacks.EarlyStopping(monitor='val_loss', mode=\"min\")])"
   ]
  },
  {
   "cell_type": "code",
   "execution_count": 10,
   "metadata": {},
   "outputs": [
    {
     "data": {
      "text/plain": [
       "<matplotlib.legend.Legend at 0x23f94965cc8>"
      ]
     },
     "execution_count": 10,
     "metadata": {},
     "output_type": "execute_result"
    },
    {
     "data": {
      "image/png": "[encoded data removed]",
      "text/plain": [
       "<Figure size 432x288 with 1 Axes>"
      ]
     },
     "metadata": {},
     "output_type": "display_data"
    }
   ],
   "source": [
    "N = np.arange(0, 24)\n",
    "plt.style.use(\"ggplot\")\n",
    "plt.figure()\n",
    "plt.plot(N, H.history[\"loss\"], label=\"train_loss\")\n",
    "plt.plot(N, H.history[\"val_loss\"], label=\"val_loss\")\n",
    "plt.title(\"Training Loss\")\n",
    "plt.xlabel(\"Epoch #\")\n",
    "plt.ylabel(\"Loss\")\n",
    "plt.legend(loc=\"lower left\")\n",
    "#plt.savefig(args[\"plot\"])\n",
    "# serialize the image data to disk\n",
    "#print(\"[INFO] saving image data...\")\n",
    "#f = open(args[\"dataset\"], \"wb\")\n",
    "#f.write(pickle.dumps(images))\n",
    "#f.close()\n",
    "# serialize the autoencoder model to disk\n",
    "#print(\"[INFO] saving autoencoder...\")\n",
    "#autoencoder.save(args[\"model\"], save_format=\"h5\")"
   ]
  },
  {
   "cell_type": "code",
   "execution_count": 12,
   "metadata": {},
   "outputs": [],
   "source": [
    "def decode_test_image(encoded, image_size=(56, 56)):\n",
    "    bits = tf.io.read_file(encoded)\n",
    "    image = tf.image.decode_png(bits, channels=3)\n",
    "    image = tf.image.rgb_to_grayscale(image)\n",
    "    image = tf.cast(image, tf.float32) / 255.0\n",
    "#     image = tf.image.crop_to_bounding_box(image, 50,150,500,1400)\n",
    "    image = tf.image.resize(image, image_size)\n",
    "    \n",
    "    return image\n",
    "\n",
    "testImage = decode_test_image(\"C:/Users/Innovations/Desktop/AI/Trickception/FooExample.jpeg\")\n",
    "testImage = tf.expand_dims(testImage, axis=0)\n",
    "result = autoencoder.predict(testImage, batch_size=1)"
   ]
  },
  {
   "cell_type": "code",
   "execution_count": 13,
   "metadata": {},
   "outputs": [
    {
     "data": {
      "text/plain": [
       "<matplotlib.image.AxesImage at 0x23f94bf3d88>"
      ]
     },
     "execution_count": 13,
     "metadata": {},
     "output_type": "execute_result"
    },
    {
     "data": {
      "image/png": "[encoded data removed]",
      "text/plain": [
       "<Figure size 432x288 with 1 Axes>"
      ]
     },
     "metadata": {},
     "output_type": "display_data"
    }
   ],
   "source": [
    "plt.imshow(testImage[0,:,:,0], cmap=\"gray\")"
   ]
  },
  {
   "cell_type": "code",
   "execution_count": 14,
   "metadata": {},
   "outputs": [
    {
     "data": {
      "text/plain": [
       "<matplotlib.image.AxesImage at 0x23f94c62e88>"
      ]
     },
     "execution_count": 14,
     "metadata": {},
     "output_type": "execute_result"
    },
    {
     "data": {
      "image/png": "[encoded data removed]",
      "text/plain": [
       "<Figure size 432x288 with 1 Axes>"
      ]
     },
     "metadata": {},
     "output_type": "display_data"
    }
   ],
   "source": [
    "plt.imshow(result[0,:,:,0], cmap=\"gray\")"
   ]
  },
  {
   "cell_type": "code",
   "execution_count": 15,
   "metadata": {},
   "outputs": [
    {
     "data": {
      "text/plain": [
       "0.13570505"
      ]
     },
     "execution_count": 15,
     "metadata": {},
     "output_type": "execute_result"
    }
   ],
   "source": [
    "np.mean((testImage - result)**2)"
   ]
  },
  {
   "cell_type": "code",
   "execution_count": 18,
   "metadata": {},
   "outputs": [],
   "source": [
    "autoencoder.save(\"FooModel.h5\")"
   ]
  }
 ],
 "metadata": {
  "kernelspec": {
   "display_name": "Python 3",
   "language": "python",
   "name": "python3"
  },
  "language_info": {
   "codemirror_mode": {
    "name": "ipython",
    "version": 3
   },
   "file_extension": ".py",
   "mimetype": "text/x-python",
   "name": "python",
   "nbconvert_exporter": "python",
   "pygments_lexer": "ipython3",
   "version": "3.7.7"
  }
 },
 "nbformat": 4,
 "nbformat_minor": 2
}
