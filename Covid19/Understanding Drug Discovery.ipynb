{
 "cells": [
  {
   "cell_type": "markdown",
   "metadata": {},
   "source": [
    "# Computational Drug Discovery\n",
    "Author: Cheong Mer Win\n",
    "\n",
    "## Goal/Objective :\n",
    "To find a ligand (drug) that has high binding affinity to COVID19 main protease\n",
    "\n",
    "## 1. Understanding Covid19 Main Protease\n",
    "Disclosure : The author of the notebook do not have a background in biochemistry. However, this should not be viewed as an obstacle, but rather an opportunity to learn the application of data science in the field of computational drug discovery.\n",
    "\n",
    "For simplification, the enzyme key-and-lock mechanism will be used for future explanation. The main protease (MPro - one of the potential lock) is to be opened/inhibited by a ligand (candidate drug). In order to assess the \"matchness\"/binding affinity of the lock-and-key, a process known as docking is used, which utilizes a software provided by the competition organizer that outputs the binding mode and affinity value.\n",
    "\n",
    "<!--include stock picture-->\n",
    "\n",
    "![image.png](https://cdn.kastatic.org/googleusercontent/_sF5pgOHKh4hSgyg9LCJVrs_FH-yf7NvBRyfWMB_rWnbg8zf-DXmnUTBZGd-3Zk4PTP8sVTlsGhyzSRtKge5qaPq)\n",
    "\n",
    "The resource given on Mpro is from worldwide Protein Data Bank (wwPDB) entry from Liu et. al. (2020), specifically https://www.wwpdb.org/pdb?id=pdb_00006lu7 with the title \"The crystal structure of COVID-19 main protease in complex with an inhibitor N3\". In the entry, there are three items to be downloaded from the link.\n",
    "1. structure coordinates in various format (PDBx/mmcif, PDBml, PDB)\n",
    "2. x-ray diffraction data (PDBx/mmcif)\n",
    "3. validation report with metric scores (PDF)\n",
    "\n",
    "The validation report was used as the starting point for understanding the problem. In the validation report, Liu et. al. successfully introduced a potential drug target/main protease (Mpro) via x-ray crystallography. There are validation scores on the method/entry (which, moving forward would assumed to be statistically significant. For user who are interested in the definition of each validation scores, feel free to visit - http://www.wwpdb.org/validation/2016/XrayValidationReportHelp). Furthermore, information on amino acid residue, sequencing and geometric quality, and electron density fit are provided. In laymen term, these information provides the types, shapes, positions, orientations, and roughness of the \"grooves\" in a key. "
   ]
  },
  {
   "cell_type": "markdown",
   "metadata": {},
   "source": [
    "### 1.1 Understanding the structure coordinates with AutoDockTool and AutoDock Vina\n",
    "Although wwPDB offers a python  library module (pdbx) that parse the structure coordinates into a readable format, the library requires some python-2 function, which would further require time to make the changes to the library. Instead, we will be using project-gemmi library. More information can be found here - https://github.com/project-gemmi/gemmi and here https://gemmi.readthedocs.io/en/latest/cif-parser.html. Parsing PDB data allows us to observe the data and massage the data into the correct and necessary format for reinforcement learning."
   ]
  },
  {
   "cell_type": "code",
   "execution_count": 1,
   "metadata": {},
   "outputs": [
    {
     "name": "stdout",
     "output_type": "stream",
     "text": [
      "There are 306 protein residues in Mpro\n"
     ]
    }
   ],
   "source": [
    "import gemmi\n",
    "from gemmi import cif\n",
    "\n",
    "doc = cif.read(r\".\\dock-prac\\6lu7.cif.gz\")\n",
    "structure = gemmi.make_structure_from_block(doc.sole_block())\n",
    "print(\"There are {0} protein residues in Mpro\".format(len(structure.entities[0].full_sequence)))"
   ]
  },
  {
   "cell_type": "code",
   "execution_count": 2,
   "metadata": {},
   "outputs": [
    {
     "name": "stdout",
     "output_type": "stream",
     "text": [
      "The full sequence of the protein residues are as follow: ['SER', 'GLY', 'PHE', 'ARG', 'LYS', 'MET', 'ALA', 'PHE', 'PRO', 'SER', 'GLY', 'LYS', 'VAL', 'GLU', 'GLY', 'CYS', 'MET', 'VAL', 'GLN', 'VAL', 'THR', 'CYS', 'GLY', 'THR', 'THR', 'THR', 'LEU', 'ASN', 'GLY', 'LEU', 'TRP', 'LEU', 'ASP', 'ASP', 'VAL', 'VAL', 'TYR', 'CYS', 'PRO', 'ARG', 'HIS', 'VAL', 'ILE', 'CYS', 'THR', 'SER', 'GLU', 'ASP', 'MET', 'LEU', 'ASN', 'PRO', 'ASN', 'TYR', 'GLU', 'ASP', 'LEU', 'LEU', 'ILE', 'ARG', 'LYS', 'SER', 'ASN', 'HIS', 'ASN', 'PHE', 'LEU', 'VAL', 'GLN', 'ALA', 'GLY', 'ASN', 'VAL', 'GLN', 'LEU', 'ARG', 'VAL', 'ILE', 'GLY', 'HIS', 'SER', 'MET', 'GLN', 'ASN', 'CYS', 'VAL', 'LEU', 'LYS', 'LEU', 'LYS', 'VAL', 'ASP', 'THR', 'ALA', 'ASN', 'PRO', 'LYS', 'THR', 'PRO', 'LYS', 'TYR', 'LYS', 'PHE', 'VAL', 'ARG', 'ILE', 'GLN', 'PRO', 'GLY', 'GLN', 'THR', 'PHE', 'SER', 'VAL', 'LEU', 'ALA', 'CYS', 'TYR', 'ASN', 'GLY', 'SER', 'PRO', 'SER', 'GLY', 'VAL', 'TYR', 'GLN', 'CYS', 'ALA', 'MET', 'ARG', 'PRO', 'ASN', 'PHE', 'THR', 'ILE', 'LYS', 'GLY', 'SER', 'PHE', 'LEU', 'ASN', 'GLY', 'SER', 'CYS', 'GLY', 'SER', 'VAL', 'GLY', 'PHE', 'ASN', 'ILE', 'ASP', 'TYR', 'ASP', 'CYS', 'VAL', 'SER', 'PHE', 'CYS', 'TYR', 'MET', 'HIS', 'HIS', 'MET', 'GLU', 'LEU', 'PRO', 'THR', 'GLY', 'VAL', 'HIS', 'ALA', 'GLY', 'THR', 'ASP', 'LEU', 'GLU', 'GLY', 'ASN', 'PHE', 'TYR', 'GLY', 'PRO', 'PHE', 'VAL', 'ASP', 'ARG', 'GLN', 'THR', 'ALA', 'GLN', 'ALA', 'ALA', 'GLY', 'THR', 'ASP', 'THR', 'THR', 'ILE', 'THR', 'VAL', 'ASN', 'VAL', 'LEU', 'ALA', 'TRP', 'LEU', 'TYR', 'ALA', 'ALA', 'VAL', 'ILE', 'ASN', 'GLY', 'ASP', 'ARG', 'TRP', 'PHE', 'LEU', 'ASN', 'ARG', 'PHE', 'THR', 'THR', 'THR', 'LEU', 'ASN', 'ASP', 'PHE', 'ASN', 'LEU', 'VAL', 'ALA', 'MET', 'LYS', 'TYR', 'ASN', 'TYR', 'GLU', 'PRO', 'LEU', 'THR', 'GLN', 'ASP', 'HIS', 'VAL', 'ASP', 'ILE', 'LEU', 'GLY', 'PRO', 'LEU', 'SER', 'ALA', 'GLN', 'THR', 'GLY', 'ILE', 'ALA', 'VAL', 'LEU', 'ASP', 'MET', 'CYS', 'ALA', 'SER', 'LEU', 'LYS', 'GLU', 'LEU', 'LEU', 'GLN', 'ASN', 'GLY', 'MET', 'ASN', 'GLY', 'ARG', 'THR', 'ILE', 'LEU', 'GLY', 'SER', 'ALA', 'LEU', 'LEU', 'GLU', 'ASP', 'GLU', 'PHE', 'THR', 'PRO', 'PHE', 'ASP', 'VAL', 'VAL', 'ARG', 'GLN', 'CYS', 'SER', 'GLY', 'VAL', 'THR', 'PHE', 'GLN']\n"
     ]
    }
   ],
   "source": [
    "print(\"The full sequence of the protein residues are as follow:\", structure.entities[0].full_sequence)"
   ]
  },
  {
   "cell_type": "markdown",
   "metadata": {},
   "source": [
    "The next step is to understand the metric to which ligands are being scored. To put it another way, what does binding affinity means? For that, we need to understand the input and output of the ligand-MPro autodocking software. We will be using the open-sourced AutoDock Vina (available from forked repository) and AutoDockTool to visualize the docked protein complex.\n",
    "\n",
    "![3DSufraceAreaOfCovid19MainProtease]("./covid19mpro.png")\n",
    "\n",
    "The input of AutoDock Vina takes in a file format of PDBQT. This can be converted using AutoDockTool (ADT) or the python script provided here (http://autodock.scripps.edu/faqs-help/how-to/how-to-prepare-a-ligand-file-for-autodock4). By using this tool, the author also gets to learn the difference between the file format and additional features included in each file format. \n",
    "\n",
    "A further tutorial from a lecture material in Oxford University (specifically http://sbcb.bioch.ox.ac.uk/users/greg/teaching/docking-2012.html) was also used to understand the general procedure.\n",
    "\n",
    "### 1.2. Understanding Docking\n",
    "\n",
    "In essence, the author concluded the following necessary steps for docking:\n",
    "1. Prepare the MPro for docking<br>\n",
    "    a. Add Hydrogen atom into protein structure. (This is important for any potential hydrogen bonding/having charges on the molecule)<br>\n",
    "    b. Identify the binding site. (A smaller binding site would allow for faster computation. However, as we are exploring possible candidate drug, the binding site would encompass the whole molecule)\n",
    "    <br>\n",
    "    \n",
    "2. Prepare the ligand/candidate drug for docking<br>\n",
    "    a. Add hydrogen atom into ligand structure.<br>\n",
    "    b. Add/Identify torsional/rotational bond in the ligand structure. (this is important to expand the binding mode and allow for flexible bonding)\n",
    "    <br>\n",
    "    \n",
    "3. Prepare docking configuration file<br>\n",
    "    a. set receptor to be MPro<br>\n",
    "    b. set ligand to be the candidate drug<br>\n",
    "    c. set the binding site (from step 1b)\n",
    "    <br>\n",
    "    \n",
    "4. Get binding affinity in kcal/mol (The lower the chemical potential the better)\n",
    "<br>\n",
    "\n",
    "5. (extra) Get Bioactivity"
   ]
  },
  {
   "cell_type": "markdown",
   "metadata": {},
   "source": [
    "## 2. Generating Ligand\n",
    "For this step we need to identify the required data structure. We will be using the Deep Reinforcement Learning github repository from the forkwell competition repository.\n",
    "\n",
    "In all three of the given repository (ReLeaSE, DrugEx and GENTRL), the input of the data is an ASCII string called **SMILES**, which stands for **Simplified Molecular-Input Line-Entry System**. **SMILES** is a string that describes the structure of chemical species. It has to be converted back into PDB (i.e. 3D molecular structure by using molecule editors) for docking. \n",
    "\n",
    "<!-- example string-->\n",
    "\n",
    "For a starter, we will be using DrugEx repository as a mean to generate molecules. The DrugEx repository owner is kind enough to share his codebase and necessary steps to run his reinforcement learning model. There are 5 files to be imported (they are dataset.py, environ.py, pretrainer.py, agent.py and designer.py."
   ]
  },
  {
   "cell_type": "code",
   "execution_count": null,
   "metadata": {},
   "outputs": [],
   "source": [
    "# some items in the library are going to be deprecated. We will ignore that for now\n",
    "import warnings\n",
    "warnings.filterwarnings('ignore')\n",
    "\n",
    "# adding additional path into sys.path variable to find self-built library\n",
    "import os\n",
    "import sys\n",
    "sys.path.append('./DrugEx/')\n",
    "import DrugEx.dataset as dataset\n",
    "import DrugEx.environ\n",
    "import DrugEx.pretrainer\n",
    "import DrugEx.agent\n",
    "import DrugEx.designer\n",
    "import pandas as pd\n",
    "\n",
    "os.environ[\"CUDA_VISIBLE_DEVICES\"] = \"0\""
   ]
  },
  {
   "cell_type": "markdown",
   "metadata": {},
   "source": [
    "## 2.1. Closer look on DrugEX\n",
    "Let's take a closer look at each step.\n",
    "### 2.1.1. dataset \n",
    "The library contains 3 functions:<br>\n",
    "a. ZINC :<br>\n",
    "        - input: .txt file which contain information of *all* molecules (molecular weight, log probability and CANONICAL_SMILES)\n",
    "        - output: .txt file of randomly selected molecules and their molecular weight, log probability and CANONICAL_SMILES\n",
    "    \n",
    "b. corpus :<br>\n",
    "        - behaves similar to tf.keras.preprocessing.text.Tokenizer.fit_on_text & texts_to_sequences\n",
    "        - input: .txt file which contain molecules and CANONICAL SMILES **Yes, it is the output from ZINC function**\n",
    "        - output: _voc.txt file which contains **tokens**. Tokens can be grossly thought as \"noun\" in a \"sentence\".(i.e. we provide a sentence/SMILES and it outputs the tokens/nouns)\n",
    "    \n",
    "c. A2AR : <br>\n",
    "        - input: .txt file which contain the receptor's CANONICAL_SMILES and PCHEMBL_value.\n",
    "        - output: .txt file that has remove unimportant \"noun\" in the CANONICAL_SMILES. (i.e. removing metal atoms, removing radioactivity of atom, etc)"
   ]
  },
  {
   "cell_type": "code",
   "execution_count": null,
   "metadata": {},
   "outputs": [],
   "source": [
    "# The key of the ZINC and Corpus function is to generate a dictionary/vocabulary that is capable of tokenizing sentences/SMILES\n",
    "# The more tokenization, the better variability of the ligand.\n",
    "# whereas the A2AR function is important to predict the PCHEMBL/Bioactivity value based of a tokenized-SMILE string.\n",
    "# This is important as we will be training a Bioactivity predictor that feeds into a reinforcement learning framework.\n",
    "\n",
    "# The formatted ZINC database from molecularsets's github page are much smaller than the ZINC15 dataset\n",
    "# and has less atomic variability in the dataset (C, N, S, O, F, Cl, Br, H), 250 to 350 Daltons molecular weights\n",
    "zincFile = r\".\\moses\\data\\dataset_v1.csv\"\n",
    "zincOutput = r\".\\Data\\ZINC.txt\"\n",
    "zincCorpusVOCOutput = r\".\\Data\\zinc\"\n",
    "zincDF = pd.read_csv(zincFile)\n",
    "zincDF = zincDF.rename(columns = {\"SMILES\" : \"CANONICAL_SMILES\"})\n",
    "zincDF.to_csv(zincOutput, sep='\\t', index=None)\n",
    "dataset.corpus(zincOutput, zincCorpusVOCOutput)\n",
    "\n",
    "ACE2ActivityCSV = r\".\\Data\\CHEMBL3736.csv\"\n",
    "ACE2RawActivityTXT = r\".\\Data\\CHEMBL3736_RAW.txt\"\n",
    "ACE2FilteredActivityTXT = r\".\\CHEMBL3736.txt\"\n",
    "ACE2DF = pd.read_csv(ACE2ActivityCSV, sep=\";\")\n",
    "ACE2DF = ACE2DF.rename(columns={\"Molecule ChEMBL ID\" :\"CMPD_CHEMBLID\", \"Smiles\" : \"CANONICAL_SMILES\", \"pChEMBL Value\" : \"PCHEMBL_VALUE\"})\n",
    "ACE2DF.to_csv(ACE2RawActivityTXT, sep='\\t', index=None)\n",
    "dataset.A2AR(ACE2RawActivityTXT, ACE2FilteredActivityTXT)"
   ]
  },
  {
   "cell_type": "markdown",
   "metadata": {},
   "source": [
    "### 2.1.2 environ\n",
    "The library contains 6 functions (5 for models construction, 1 for running):<br>\n",
    "a. - e. DNN, RF, SVM, NB and KNN : <br>\n",
    "        - input : X, y (training and validation ndarray dataset)\n",
    "                  X_ind, y_ind (independent never before seen ndarray dataset)\n",
    "        - output : cross validation and test set results<br>\n",
    "        \n",
    "f. main : <br>\n",
    "        - input : feat (filename for output)\n",
    "                  alg (type of model/algorithm to test)\n",
    "                  reg (bool if the model is for regression purposes)\n",
    "        - output : results/scores in .txt file and model.pkg\n",
    "                      \n",
    "The author recommended running this file to set up model construction and mL parameter (i.e. learning rate, batch size and epoch) as shown in \"if__name__\" block"
   ]
  },
  {
   "cell_type": "code",
   "execution_count": null,
   "metadata": {},
   "outputs": [],
   "source": [
    "## we will be using the main function to generate the bioactivity predictor. We will be predicting bioactivity for ACE2-ligand \n",
    "## We will be using 4-layers DNN as our predictor since we have a substantially smaller dataset, only 65 datapoints\n",
    "## We will also be changing the number of folds on the cross-validation set\n",
    "import sys\n",
    "sys.path.append('./DrugEx/')\n",
    "from DrugEx import environ\n",
    "environ.main('ecfp6', 'DNN', reg=True)\n",
    "\n",
    "## This will produce three outputs\n",
    "## (1) 3 (due to 3 fold) DNN weight file (.pkg) \n",
    "## (2) cross-validated scores (which shows an average PCHEMBL Bioactivity absolute error of ~3 in the validation set)\n",
    "## (3) independent scores \n",
    "## Note: the dataset is extremely small to trust the reliability of the StratifiedKFold/Fold method"
   ]
  },
  {
   "cell_type": "markdown",
   "metadata": {},
   "source": [
    "### 2.1.3. pretrainer\n",
    "The library contains 1 function only. <br>\n",
    "a. main: <br>\n",
    "    - input : NONE\n",
    "    - output : NONE\n",
    "The main function takes the zinc vocabulary that was produced in the previous steps to create <br>\n",
    "\n",
    "    (a) exploitation model (RNN : input > embedding > recurrent > output)\n",
    "    (b) exploration model (RNN : input > embedding > recurrent > output)\n",
    "\n",
    "by execute the following <br>\n",
    "1. (a) if exists a pretrained exploitation model, use pretrained model/state dictionary (**netP.pkg**) to fine tune an exploration model. <br> \n",
    "    (b) if pretrained exploitation model does not exist, train an exploitation RNN model with the ZINC dataset<br>\n",
    "\n",
    "2. use the pretrained exploitation model (**netP.pkg**) to finetune the RNN exploration model agent (**netE.pkg**) with the ACE2 dataset.\n",
    "\n",
    "**Question: What are we exploiting and exploring?**\n",
    "Answer : we are exploiting the massive and real-life tested zinc database to create a consistent RNN model that, given an known input can generate a string of known SMILES. This exploitation model can be think of understanding the generation of benzene ring, bonds between C-C, C==C, C-N and etc.\n",
    "\n",
    "Then, we want to train the same RNN model to generate *new* SMILES for a specific task (i.e. targeting the ACE2/CHEMBL3736 receptor). The exploitation-to-exploration model, can be trained by providing existing SMILES string/bioassay that has high activity on the ACE2/CHEMBL3736 receptor.\n",
    "\n",
    "We will then use the model and coupled with the reward function trained previously to generate new ligand"
   ]
  },
  {
   "cell_type": "code",
   "execution_count": null,
   "metadata": {},
   "outputs": [],
   "source": [
    "pretrainer.main()"
   ]
  },
  {
   "cell_type": "markdown",
   "metadata": {},
   "source": [
    "### 2.1.4. agent\n",
    "The library contains 3 functions<br>\n",
    "\n",
    "a. Policy_gradient : \n",
    "    - input : model.Generator (from pretrainer to generate SMILES string)\n",
    "              reward function predictor (from environ that scores the bioactivity of the newly produced sequence)\n",
    "    - output : optimized model\n",
    "\n",
    "b. Rollout_PG :\n",
    "    - input : model.Generator (from pretrainer to generate SMILES string)\n",
    "              reward function predictor (from environ that scores the bioactivity of the newly produced sequence)\n",
    "    - output : optimized model\n",
    "    \n",
    "The difference between a. and b. is the approach to generate reward. In (a), the reward is generated from the reward function predictor. In (b), a monte carlo approach is applied together with the reward function predictor to generate the reward.\n",
    "\n",
    "c. main :\n",
    "    - input : None\n",
    "    - output : None\n",
    "The main function read the path of exploration model, exploitation model, reward function/model and train a model that has been optimized for a specific task (i.e. targeting ACE2 receptor"
   ]
  },
  {
   "cell_type": "markdown",
   "metadata": {},
   "source": [
    "### 2.1.5 designer\n",
    "The library contains one function:\n",
    "\n",
    "a. generate : \n",
    "    - input : agent_path (from agent.py / **net_e.pkg**)\n",
    "              out (output path filename)\n",
    "              num (number of unique SMILES string to generate)\n",
    "              environ_path (predictor function to use)\n",
    "    - output : number of unique SMILES string and the Bioactivity score"
   ]
  },
  {
   "cell_type": "code",
   "execution_count": null,
   "metadata": {},
   "outputs": [],
   "source": [
    "designer.main()"
   ]
  },
  {
   "cell_type": "markdown",
   "metadata": {},
   "source": [
    "## 3. Docking\n",
    "After executing the above steps, a unique SMILES string is produced. The SMILES string does not contain any 3D rotational or coordinate information and it needs to be processed before attempting docking.\n",
    "\n",
    "Previously the author has concluded the necessary steps for docking, and they are as follow :\n",
    "1. Prepare the 6lu7.pdb (covid19 MPRO) to 6lu7.pdbqt for docking (note: qt stands for partial charges (q) and atom type (t))<br>\n",
    "    a. adding polar hydrogen bond to missing sites<br>\n",
    "    b. computing the Gasteiger charges<br>\n",
    "    c. identify docking coordinates and docking area (whole surface area of the molecule)\n",
    "\n",
    "2. Prepare the ligand.pdbqt<br>\n",
    "    a. Convert SMILES string to PDB (using Kekule method). This can be done with the translation tool from the National Cancer Institute (https://cactus.nci.nih.gov/translate/)<br>\n",
    "    b. Include rotational bond \n",
    "    \n",
    "3. Prepare config.txt for docking\n",
    "\n",
    "4. Run AutoVina to obtain the binding affinity\n",
    "\n",
    "For this testing, the following SMILES string was generated : CC(NC(C)c1ccc2ccccc2c1)c1cccc(Br)c1 with a 90.6% confidence of PCHEMBL activity > 6.5 and a binding affinity of -8.1kcal/mol"
   ]
  },
  {
   "cell_type": "markdown",
   "metadata": {},
   "source": [
    "![AutoVina Result]("./DockingResult.png")\n",
    "![3DSufraceAreaOfCovid19MainProteaseWithLigand]("./ComplexMolecule.png")\n",
    "<br>\n",
    "<center>The highlighted molecule docking on the Covid19 Main Protease</center>"
   ]
  }
 ],
 "metadata": {
  "kernelspec": {
   "display_name": "Python 3",
   "language": "python",
   "name": "python3"
  },
  "language_info": {
   "codemirror_mode": {
    "name": "ipython",
    "version": 3
   },
   "file_extension": ".py",
   "mimetype": "text/x-python",
   "name": "python",
   "nbconvert_exporter": "python",
   "pygments_lexer": "ipython3",
   "version": "3.7.6"
  }
 },
 "nbformat": 4,
 "nbformat_minor": 2
}
